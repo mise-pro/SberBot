{
 "cells": [
  {
   "cell_type": "code",
   "execution_count": 1,
   "metadata": {
    "ExecuteTime": {
     "end_time": "2018-06-20T07:43:47.794124Z",
     "start_time": "2018-06-20T07:43:36.974770Z"
    },
    "collapsed": true
   },
   "outputs": [
    {
     "name": "stderr",
     "output_type": "stream",
     "text": [
      "C:\\ProgramData\\Anaconda3\\lib\\importlib\\_bootstrap.py:219: ImportWarning: can't resolve package from __spec__ or __package__, falling back on __name__ and __path__\n",
      "  return f(*args, **kwds)\n",
      "C:\\ProgramData\\Anaconda3\\lib\\site-packages\\pandas\\core\\dtypes\\dtypes.py:369: DeprecationWarning: invalid escape sequence \\[\n",
      "  _match = re.compile(\"(datetime64|M8)\\[(?P<unit>.+), (?P<tz>.+)\\]\")\n",
      "C:\\ProgramData\\Anaconda3\\lib\\site-packages\\pandas\\core\\strings.py:399: DeprecationWarning: invalid escape sequence \\w\n",
      "  \"\"\"\n",
      "C:\\ProgramData\\Anaconda3\\lib\\site-packages\\pandas\\core\\strings.py:677: DeprecationWarning: invalid escape sequence \\d\n",
      "  \"\"\"\n",
      "C:\\ProgramData\\Anaconda3\\lib\\site-packages\\pandas\\core\\frame.py:2679: DeprecationWarning: invalid escape sequence \\*\n",
      "  \"\"\"\n",
      "C:\\ProgramData\\Anaconda3\\lib\\site-packages\\pandas\\io\\formats\\format.py:1001: DeprecationWarning: invalid escape sequence \\m\n",
      "  \"\"\"\n",
      "C:\\ProgramData\\Anaconda3\\lib\\site-packages\\pandas\\io\\formats\\format.py:1062: DeprecationWarning: invalid escape sequence \\c\n",
      "  buf.write('\\cline{{{cl:d}-{icol:d}}}\\n'\n",
      "C:\\ProgramData\\Anaconda3\\lib\\site-packages\\pandas\\io\\parsers.py:159: DeprecationWarning: invalid escape sequence \\s\n",
      "  NaN: '\"\"\" + fill(\"', '\".join(sorted(_NA_VALUES)),\n",
      "C:\\ProgramData\\Anaconda3\\lib\\importlib\\_bootstrap.py:219: ImportWarning: can't resolve package from __spec__ or __package__, falling back on __name__ and __path__\n",
      "  return f(*args, **kwds)\n",
      "C:\\ProgramData\\Anaconda3\\lib\\site-packages\\nltk\\featstruct.py:1206: DeprecationWarning: invalid escape sequence \\d\n",
      "  name, n = re.sub('\\d+$', '', var.name), 2\n",
      "C:\\ProgramData\\Anaconda3\\lib\\site-packages\\nltk\\sem\\evaluate.py:281: DeprecationWarning: invalid escape sequence \\ \n",
      "  \"\"\"\n",
      "C:\\ProgramData\\Anaconda3\\lib\\site-packages\\nltk\\sem\\relextract.py:111: DeprecationWarning: invalid escape sequence \\w\n",
      "  ENT = re.compile(\"&(\\w+?);\")\n",
      "C:\\ProgramData\\Anaconda3\\lib\\site-packages\\nltk\\sem\\relextract.py:356: DeprecationWarning: invalid escape sequence \\s\n",
      "  \"\"\"\n",
      "C:\\ProgramData\\Anaconda3\\lib\\site-packages\\nltk\\grammar.py:1138: DeprecationWarning: invalid escape sequence \\*\n",
      "  \"\"\"\n",
      "C:\\ProgramData\\Anaconda3\\lib\\site-packages\\nltk\\tree.py:809: DeprecationWarning: invalid escape sequence \\$\n",
      "  reserved_chars = re.compile('([#\\$%&~_\\{\\}])')\n",
      "C:\\ProgramData\\Anaconda3\\lib\\importlib\\_bootstrap.py:219: ImportWarning: can't resolve package from __spec__ or __package__, falling back on __name__ and __path__\n",
      "  return f(*args, **kwds)\n",
      "C:\\ProgramData\\Anaconda3\\lib\\site-packages\\sklearn\\externals\\joblib\\func_inspect.py:53: DeprecationWarning: invalid escape sequence \\<\n",
      "  '\\<doctest (.*\\.rst)\\[(.*)\\]\\>', source_file).groups()\n",
      "C:\\ProgramData\\Anaconda3\\lib\\site-packages\\sklearn\\externals\\joblib\\_memory_helpers.py:10: DeprecationWarning: invalid escape sequence \\s\n",
      "  cookie_re = re.compile(\"coding[:=]\\s*([-\\w.]+)\")\n",
      "C:\\ProgramData\\Anaconda3\\lib\\importlib\\_bootstrap.py:219: ImportWarning: can't resolve package from __spec__ or __package__, falling back on __name__ and __path__\n",
      "  return f(*args, **kwds)\n",
      "C:\\ProgramData\\Anaconda3\\lib\\site-packages\\sklearn\\datasets\\samples_generator.py:839: DeprecationWarning: invalid escape sequence \\#\n",
      "  \"\"\"\n",
      "C:\\ProgramData\\Anaconda3\\lib\\site-packages\\sklearn\\datasets\\samples_generator.py:1429: DeprecationWarning: invalid escape sequence \\c\n",
      "  \"\"\"\n",
      "C:\\ProgramData\\Anaconda3\\lib\\site-packages\\sklearn\\metrics\\classification.py:349: DeprecationWarning: invalid escape sequence \\k\n",
      "  \"\"\"\n",
      "C:\\ProgramData\\Anaconda3\\lib\\site-packages\\sklearn\\metrics\\cluster\\supervised.py:578: DeprecationWarning: invalid escape sequence \\s\n",
      "  \"\"\"\n",
      "C:\\ProgramData\\Anaconda3\\lib\\site-packages\\sklearn\\linear_model\\omp.py:343: DeprecationWarning: invalid escape sequence \\g\n",
      "  \"\"\"\n",
      "C:\\ProgramData\\Anaconda3\\lib\\site-packages\\nltk\\tokenize\\regexp.py:102: DeprecationWarning: invalid escape sequence \\w\n",
      "  \"\"\"\n",
      "C:\\ProgramData\\Anaconda3\\lib\\site-packages\\nltk\\tokenize\\repp.py:132: DeprecationWarning: invalid escape sequence \\(\n",
      "  line_regex = re.compile('^\\((\\d+), (\\d+), (.+)\\)$', re.MULTILINE)\n",
      "C:\\ProgramData\\Anaconda3\\lib\\site-packages\\nltk\\tokenize\\texttiling.py:96: DeprecationWarning: invalid escape sequence \\-\n",
      "  if re.match(\"[a-z\\-\\' \\n\\t]\", c))\n",
      "C:\\ProgramData\\Anaconda3\\lib\\site-packages\\nltk\\tokenize\\toktok.py:51: DeprecationWarning: invalid escape sequence \\]\n",
      "  FUNKY_PUNCT_1 = re.compile(u'([،;؛¿!\"\\])}»›”؟¡%٪°±©®।॥…])'), r\" \\1 \"\n",
      "C:\\ProgramData\\Anaconda3\\lib\\site-packages\\nltk\\tokenize\\toktok.py:53: DeprecationWarning: invalid escape sequence \\[\n",
      "  FUNKY_PUNCT_2 = re.compile(u'([({\\[“‘„‚«‹「『])'), r\" \\1 \"\n",
      "C:\\ProgramData\\Anaconda3\\lib\\site-packages\\nltk\\tokenize\\toktok.py:60: DeprecationWarning: invalid escape sequence \\|\n",
      "  PIPE = re.compile('\\|'), ' &#124; '\n",
      "C:\\ProgramData\\Anaconda3\\lib\\site-packages\\nltk\\chunk\\util.py:360: DeprecationWarning: invalid escape sequence \\S\n",
      "  _LINE_RE = re.compile('(\\S+)\\s+(\\S+)\\s+([IOB])-?(\\S+)?')\n",
      "C:\\ProgramData\\Anaconda3\\lib\\site-packages\\nltk\\tag\\sequential.py:714: DeprecationWarning: invalid escape sequence \\W\n",
      "  elif re.match('\\W+$', word):\n",
      "C:\\ProgramData\\Anaconda3\\lib\\site-packages\\nltk\\tag\\sequential.py:712: DeprecationWarning: invalid escape sequence \\.\n",
      "  if re.match('[0-9]+(\\.[0-9]*)?|[0-9]*\\.[0-9]+$', word):\n",
      "C:\\ProgramData\\Anaconda3\\lib\\site-packages\\nltk\\classify\\maxent.py:1276: DeprecationWarning: invalid escape sequence \\ \n",
      "  \"\"\"\n",
      "C:\\ProgramData\\Anaconda3\\lib\\site-packages\\nltk\\chunk\\regexp.py:71: DeprecationWarning: invalid escape sequence \\{\n",
      "  _BRACKETS = re.compile('[^\\{\\}]+')\n",
      "C:\\ProgramData\\Anaconda3\\lib\\site-packages\\nltk\\chunk\\regexp.py:736: DeprecationWarning: invalid escape sequence \\}\n",
      "  regexp = re.compile('(?P<left>%s)\\}(?P<right>%s)' %\n",
      "C:\\ProgramData\\Anaconda3\\lib\\site-packages\\nltk\\stem\\lancaster.py:194: DeprecationWarning: invalid escape sequence \\*\n",
      "  valid_rule = re.compile(\"^[a-z]+\\*?\\d[a-z]*[>\\.]?$\")\n",
      "C:\\ProgramData\\Anaconda3\\lib\\site-packages\\nltk\\stem\\porter.py:180: DeprecationWarning: invalid escape sequence \\m\n",
      "  \"\"\"\n",
      "C:\\ProgramData\\Anaconda3\\lib\\site-packages\\nltk\\corpus\\reader\\util.py:597: DeprecationWarning: invalid escape sequence \\d\n",
      "  if re.match('^\\d+-\\d+', line) is not None:\n",
      "C:\\ProgramData\\Anaconda3\\lib\\site-packages\\nltk\\toolbox.py:196: DeprecationWarning: invalid escape sequence \\_\n",
      "  \"\"\"\n",
      "C:\\ProgramData\\Anaconda3\\lib\\site-packages\\nltk\\ccg\\combinator.py:226: DeprecationWarning: invalid escape sequence \\Y\n",
      "  \"\"\"\n"
     ]
    }
   ],
   "source": [
    "%load_ext autoreload\n",
    "%autoreload 2\n",
    "import warnings\n",
    "warnings.filterwarnings(action='once')\n",
    "import numpy as np\n",
    "import data_functions as df\n",
    "import text_functions as tf\n",
    "import analitics_functions as af\n",
    "import lda_functions as lf\n",
    "\n",
    "from sklearn.decomposition import LatentDirichletAllocation, TruncatedSVD\n",
    "from sklearn.feature_extraction.text import CountVectorizer, TfidfVectorizer\n",
    "from sklearn.model_selection import GridSearchCV\n",
    "\n",
    "import matplotlib.pyplot as plt\n",
    "%matplotlib inline"
   ]
  },
  {
   "cell_type": "code",
   "execution_count": 4,
   "metadata": {
    "ExecuteTime": {
     "end_time": "2018-06-20T07:43:53.967752Z",
     "start_time": "2018-06-20T07:43:53.756611Z"
    }
   },
   "outputs": [],
   "source": [
    "isDebug=True\n",
    "mode='FAST'"
   ]
  },
  {
   "cell_type": "code",
   "execution_count": 5,
   "metadata": {
    "ExecuteTime": {
     "end_time": "2018-06-20T07:43:56.057076Z",
     "start_time": "2018-06-20T07:43:54.405324Z"
    },
    "code_folding": [
     0
    ]
   },
   "outputs": [
    {
     "name": "stdout",
     "output_type": "stream",
     "text": [
      "\n",
      "loading data, please wait...\n",
      "loading data DONE\n",
      "<Загрузка из дампа>\n",
      "\n",
      "Всего слов в словаре: 3307\n"
     ]
    }
   ],
   "source": [
    "#создаем массивы данных\n",
    "questionsAnswers, questionsOriginal, answersOriginal, questionsNormalized=df.load_data(mode)\n",
    "dictionary=df.create_dictionary(questionsNormalized,10,3000, mode)"
   ]
  },
  {
   "cell_type": "code",
   "execution_count": 6,
   "metadata": {
    "ExecuteTime": {
     "end_time": "2018-06-20T07:43:58.959100Z",
     "start_time": "2018-06-20T07:43:56.221026Z"
    }
   },
   "outputs": [
    {
     "name": "stdout",
     "output_type": "stream",
     "text": [
      "Sparsicity (матрица разряженности нулей и неНулей):  0.3007117421210558 %\n"
     ]
    }
   ],
   "source": [
    "#делаем матрицу слов и документов\n",
    "#считаем разряженность\n",
    "vectorizer = CountVectorizer(analyzer='word', vocabulary=dictionary)\n",
    "dataVectorized = vectorizer.fit_transform(' '.join(t) for t in questionsNormalized[:])\n",
    "matrixDoc2words=np.array(dataVectorized.todense())\n",
    "af.check_sparsity(matrixDoc2words)"
   ]
  },
  {
   "cell_type": "code",
   "execution_count": 19,
   "metadata": {
    "ExecuteTime": {
     "end_time": "2018-06-20T10:05:55.619534Z",
     "start_time": "2018-06-20T08:43:06.577963Z"
    }
   },
   "outputs": [
    {
     "name": "stdout",
     "output_type": "stream",
     "text": [
      "\n",
      "поиск будет осуществляться заново, ждите долго ...\n"
     ]
    },
    {
     "name": "stderr",
     "output_type": "stream",
     "text": [
      "C:\\ProgramData\\Anaconda3\\lib\\site-packages\\sklearn\\decomposition\\online_lda.py:536: DeprecationWarning: The default value for 'learning_method' will be changed from 'online' to 'batch' in the release 0.20. This warning was introduced in 0.18.\n",
      "  DeprecationWarning)\n",
      "C:\\ProgramData\\Anaconda3\\lib\\site-packages\\sklearn\\decomposition\\online_lda.py:536: DeprecationWarning: The default value for 'learning_method' will be changed from 'online' to 'batch' in the release 0.20. This warning was introduced in 0.18.\n",
      "  DeprecationWarning)\n",
      "C:\\ProgramData\\Anaconda3\\lib\\site-packages\\sklearn\\decomposition\\online_lda.py:536: DeprecationWarning: The default value for 'learning_method' will be changed from 'online' to 'batch' in the release 0.20. This warning was introduced in 0.18.\n",
      "  DeprecationWarning)\n",
      "C:\\ProgramData\\Anaconda3\\lib\\site-packages\\sklearn\\decomposition\\online_lda.py:536: DeprecationWarning: The default value for 'learning_method' will be changed from 'online' to 'batch' in the release 0.20. This warning was introduced in 0.18.\n",
      "  DeprecationWarning)\n",
      "C:\\ProgramData\\Anaconda3\\lib\\site-packages\\sklearn\\decomposition\\online_lda.py:536: DeprecationWarning: The default value for 'learning_method' will be changed from 'online' to 'batch' in the release 0.20. This warning was introduced in 0.18.\n",
      "  DeprecationWarning)\n",
      "C:\\ProgramData\\Anaconda3\\lib\\site-packages\\sklearn\\decomposition\\online_lda.py:536: DeprecationWarning: The default value for 'learning_method' will be changed from 'online' to 'batch' in the release 0.20. This warning was introduced in 0.18.\n",
      "  DeprecationWarning)\n",
      "C:\\ProgramData\\Anaconda3\\lib\\site-packages\\sklearn\\decomposition\\online_lda.py:536: DeprecationWarning: The default value for 'learning_method' will be changed from 'online' to 'batch' in the release 0.20. This warning was introduced in 0.18.\n",
      "  DeprecationWarning)\n",
      "C:\\ProgramData\\Anaconda3\\lib\\site-packages\\sklearn\\decomposition\\online_lda.py:536: DeprecationWarning: The default value for 'learning_method' will be changed from 'online' to 'batch' in the release 0.20. This warning was introduced in 0.18.\n",
      "  DeprecationWarning)\n",
      "C:\\ProgramData\\Anaconda3\\lib\\site-packages\\sklearn\\decomposition\\online_lda.py:536: DeprecationWarning: The default value for 'learning_method' will be changed from 'online' to 'batch' in the release 0.20. This warning was introduced in 0.18.\n",
      "  DeprecationWarning)\n",
      "C:\\ProgramData\\Anaconda3\\lib\\site-packages\\sklearn\\decomposition\\online_lda.py:536: DeprecationWarning: The default value for 'learning_method' will be changed from 'online' to 'batch' in the release 0.20. This warning was introduced in 0.18.\n",
      "  DeprecationWarning)\n",
      "C:\\ProgramData\\Anaconda3\\lib\\site-packages\\sklearn\\decomposition\\online_lda.py:536: DeprecationWarning: The default value for 'learning_method' will be changed from 'online' to 'batch' in the release 0.20. This warning was introduced in 0.18.\n",
      "  DeprecationWarning)\n",
      "C:\\ProgramData\\Anaconda3\\lib\\site-packages\\sklearn\\decomposition\\online_lda.py:536: DeprecationWarning: The default value for 'learning_method' will be changed from 'online' to 'batch' in the release 0.20. This warning was introduced in 0.18.\n",
      "  DeprecationWarning)\n",
      "C:\\ProgramData\\Anaconda3\\lib\\site-packages\\sklearn\\decomposition\\online_lda.py:536: DeprecationWarning: The default value for 'learning_method' will be changed from 'online' to 'batch' in the release 0.20. This warning was introduced in 0.18.\n",
      "  DeprecationWarning)\n",
      "C:\\ProgramData\\Anaconda3\\lib\\site-packages\\sklearn\\decomposition\\online_lda.py:536: DeprecationWarning: The default value for 'learning_method' will be changed from 'online' to 'batch' in the release 0.20. This warning was introduced in 0.18.\n",
      "  DeprecationWarning)\n",
      "C:\\ProgramData\\Anaconda3\\lib\\site-packages\\sklearn\\decomposition\\online_lda.py:536: DeprecationWarning: The default value for 'learning_method' will be changed from 'online' to 'batch' in the release 0.20. This warning was introduced in 0.18.\n",
      "  DeprecationWarning)\n",
      "C:\\ProgramData\\Anaconda3\\lib\\site-packages\\sklearn\\decomposition\\online_lda.py:536: DeprecationWarning: The default value for 'learning_method' will be changed from 'online' to 'batch' in the release 0.20. This warning was introduced in 0.18.\n",
      "  DeprecationWarning)\n",
      "C:\\ProgramData\\Anaconda3\\lib\\site-packages\\sklearn\\decomposition\\online_lda.py:536: DeprecationWarning: The default value for 'learning_method' will be changed from 'online' to 'batch' in the release 0.20. This warning was introduced in 0.18.\n",
      "  DeprecationWarning)\n",
      "C:\\ProgramData\\Anaconda3\\lib\\site-packages\\sklearn\\decomposition\\online_lda.py:536: DeprecationWarning: The default value for 'learning_method' will be changed from 'online' to 'batch' in the release 0.20. This warning was introduced in 0.18.\n",
      "  DeprecationWarning)\n",
      "C:\\ProgramData\\Anaconda3\\lib\\site-packages\\sklearn\\decomposition\\online_lda.py:536: DeprecationWarning: The default value for 'learning_method' will be changed from 'online' to 'batch' in the release 0.20. This warning was introduced in 0.18.\n",
      "  DeprecationWarning)\n",
      "C:\\ProgramData\\Anaconda3\\lib\\site-packages\\sklearn\\decomposition\\online_lda.py:536: DeprecationWarning: The default value for 'learning_method' will be changed from 'online' to 'batch' in the release 0.20. This warning was introduced in 0.18.\n",
      "  DeprecationWarning)\n",
      "C:\\ProgramData\\Anaconda3\\lib\\site-packages\\sklearn\\decomposition\\online_lda.py:536: DeprecationWarning: The default value for 'learning_method' will be changed from 'online' to 'batch' in the release 0.20. This warning was introduced in 0.18.\n",
      "  DeprecationWarning)\n",
      "C:\\ProgramData\\Anaconda3\\lib\\site-packages\\sklearn\\decomposition\\online_lda.py:536: DeprecationWarning: The default value for 'learning_method' will be changed from 'online' to 'batch' in the release 0.20. This warning was introduced in 0.18.\n",
      "  DeprecationWarning)\n",
      "C:\\ProgramData\\Anaconda3\\lib\\site-packages\\sklearn\\decomposition\\online_lda.py:536: DeprecationWarning: The default value for 'learning_method' will be changed from 'online' to 'batch' in the release 0.20. This warning was introduced in 0.18.\n",
      "  DeprecationWarning)\n",
      "C:\\ProgramData\\Anaconda3\\lib\\site-packages\\sklearn\\decomposition\\online_lda.py:536: DeprecationWarning: The default value for 'learning_method' will be changed from 'online' to 'batch' in the release 0.20. This warning was introduced in 0.18.\n",
      "  DeprecationWarning)\n",
      "C:\\ProgramData\\Anaconda3\\lib\\site-packages\\sklearn\\decomposition\\online_lda.py:536: DeprecationWarning: The default value for 'learning_method' will be changed from 'online' to 'batch' in the release 0.20. This warning was introduced in 0.18.\n",
      "  DeprecationWarning)\n",
      "C:\\ProgramData\\Anaconda3\\lib\\site-packages\\sklearn\\decomposition\\online_lda.py:536: DeprecationWarning: The default value for 'learning_method' will be changed from 'online' to 'batch' in the release 0.20. This warning was introduced in 0.18.\n",
      "  DeprecationWarning)\n",
      "C:\\ProgramData\\Anaconda3\\lib\\site-packages\\sklearn\\decomposition\\online_lda.py:536: DeprecationWarning: The default value for 'learning_method' will be changed from 'online' to 'batch' in the release 0.20. This warning was introduced in 0.18.\n",
      "  DeprecationWarning)\n",
      "C:\\ProgramData\\Anaconda3\\lib\\site-packages\\sklearn\\decomposition\\online_lda.py:536: DeprecationWarning: The default value for 'learning_method' will be changed from 'online' to 'batch' in the release 0.20. This warning was introduced in 0.18.\n",
      "  DeprecationWarning)\n"
     ]
    },
    {
     "name": "stdout",
     "output_type": "stream",
     "text": [
      "Best Model's Params:  {'learning_decay': 0.9, 'n_components': 10}\n",
      "Best Log Likelihood Score from all models checked:  -1105177.9250275753\n"
     ]
    },
    {
     "name": "stderr",
     "output_type": "stream",
     "text": [
      "C:\\ProgramData\\Anaconda3\\lib\\site-packages\\sklearn\\model_selection\\_search.py:761: DeprecationWarning: The grid_scores_ attribute was deprecated in version 0.18 in favor of the more elaborate cv_results_ attribute. The grid_scores_ attribute will not be available from 0.20\n",
      "  DeprecationWarning)\n",
      "C:\\ProgramData\\Anaconda3\\lib\\site-packages\\sklearn\\model_selection\\_search.py:761: DeprecationWarning: The grid_scores_ attribute was deprecated in version 0.18 in favor of the more elaborate cv_results_ attribute. The grid_scores_ attribute will not be available from 0.20\n",
      "  DeprecationWarning)\n",
      "C:\\ProgramData\\Anaconda3\\lib\\site-packages\\sklearn\\model_selection\\_search.py:761: DeprecationWarning: The grid_scores_ attribute was deprecated in version 0.18 in favor of the more elaborate cv_results_ attribute. The grid_scores_ attribute will not be available from 0.20\n",
      "  DeprecationWarning)\n"
     ]
    },
    {
     "data": {
      "image/png": "[encoded data removed]",
      "text/plain": [
       "<matplotlib.figure.Figure at 0x2ebed26550>"
      ]
     },
     "metadata": {},
     "output_type": "display_data"
    },
    {
     "name": "stdout",
     "output_type": "stream",
     "text": [
      "Log Likelihood (Higher is better):  -3222889.2152588954\n",
      "Perplexity (Lower is better):  1371.8855657225633\n"
     ]
    }
   ],
   "source": [
    "#search and get best lda model\n",
    "ldaModel, ldaOutput = lf.grid_search_best_lda (searchParams={'n_components': [10, 15, 20], 'learning_decay': [.5, .7, .9]}, calculatedModels=False, dataVectorized=dataVectorized)\n",
    "af.check_likelihood(ldaModel, dataVectorized)\n",
    "af.check_perplexity(ldaModel, dataVectorized)"
   ]
  },
  {
   "cell_type": "code",
   "execution_count": 8,
   "metadata": {
    "ExecuteTime": {
     "end_time": "2018-06-08T06:28:33.562156Z",
     "start_time": "2018-06-08T06:28:11.892773Z"
    }
   },
   "outputs": [
    {
     "name": "stdout",
     "output_type": "stream",
     "text": [
      "Все ключевые ненормированые слова в найденных темах:\n",
      "Тема 0: наличных кабинет дебетовую visa выписку поменять срок сразу забрать выдали вообще обычно дизайном условия индивидуальным\n",
      "Тема 1: сотрудники заявление вернуть ответ должны списание обращение написано магазине сегодня списание адрес денег будут возврат\n",
      "Тема 2: вклад снять комиссия открыть перевести россии банкомат городе карточку сколько москве процент рублей закрыть счёт\n",
      "Тема 3: мобильный приходит подключить услуги работает баланс долго сегодня отключить платеж ждать пополнить оператор пополнить молодежную\n",
      "Тема 4: пришло заявку сайте говорят перевели обслуживание ситуация недели сбербанк поступили оформить привязать сняли прошло вчера\n",
      "Тема 5: средств паспорт доброго могут документы денежных получается времени снять пенсию сберкнижки выдаче находится сберкнижки информацию\n",
      "Тема 6: пароль операции пишет проблема интернет пользоваться раньше пытаюсь подтверждения ошибка проблема зайти входа списание логин\n",
      "Тема 7: узнать срок обратиться возможно действия месяц хотел реквизиты платеж именно офис следующий указан найти назад\n",
      "Тема 8: кредит ипотеку взять рублей работает месяц работает причине очень условия страховку процент договор платеж зарплату\n",
      "Тема 9: заблокирована мошенники клиентов приложение ответ числа человек потерял позвонить оператор службу позвонить арест зачисления поддержки\n"
     ]
    }
   ],
   "source": [
    "#получим вектор столбец с темой по каждому документу\n",
    "#ldaOutput = ldaModel.transform(dataVectorized)\n",
    "question2themesVector=np.argmax(ldaOutput,axis=1)\n",
    "\n",
    "#показать названия кластеров\n",
    "#получим уникальные слова в темах модели и добавляем к ним наиболее часто встречающиеся из всех ненормированных слов\n",
    "mostFreqWordsPerThemes=lf.get_most_freq_words_per_theme(vectorizer.get_feature_names(), ldaModel, questionsOriginal)\n",
    "lf.show_most_freq_words_per_theme(mostFreqWordsPerThemes)"
   ]
  },
  {
   "cell_type": "code",
   "execution_count": 9,
   "metadata": {
    "ExecuteTime": {
     "end_time": "2018-06-08T06:28:34.335315Z",
     "start_time": "2018-06-08T06:28:33.564656Z"
    }
   },
   "outputs": [
    {
     "name": "stdout",
     "output_type": "stream",
     "text": [
      "Все ключевые нормированые слова в найденных темах:\n",
      "Тема 0: ['личн' 'кабинет' 'дебетов' 'visa' 'выписк' 'поменя' 'срок' 'сраз' 'забра'\n",
      " 'выда' 'вообщ' 'обычн' 'дизайн' 'слов' 'индивидуальн']\n",
      "Тема 1: ['сотрудник' 'заявлен' 'вернут' 'ответ' 'должн' 'списа' 'обращен' 'написа'\n",
      " 'магазин' 'сегодн' 'писа' 'адрес' 'денег' 'будут' 'возврат']\n",
      "Тема 2: ['вклад' 'снят' 'комисс' 'откр' 'перевест' 'росс' 'банкомат' 'город'\n",
      " 'карточк' 'скольк' 'москв' 'процент' 'рубл' 'закр' 'счёт']\n",
      "Тема 3: ['мобильн' 'приход' 'подключ' 'услуг' 'работа' 'баланс' 'долг' 'сегодн'\n",
      " 'отключ' 'платеж' 'ждат' 'пополн' 'оператор' 'полн' 'молодежн']\n",
      "Тема 4: ['пришл' 'заявк' 'сайт' 'говор' 'перевел' 'обслуживан' 'ситуац' 'недел'\n",
      " 'сбер' 'поступ' 'оформ' 'привяза' 'снял' 'прошл' 'вчер']\n",
      "Тема 5: ['средств' 'паспорт' 'добр' 'могут' 'документ' 'денежн' 'получа' 'времен'\n",
      " 'снят' 'пенс' 'сберкнижк' 'выдач' 'наход' 'книжк' 'информац']\n",
      "Тема 6: ['парол' 'операц' 'пишет' 'проблем' 'интернет' 'пользова' 'раньш' 'пыта'\n",
      " 'подтвержден' 'ошибк' 'пробл' 'зайт' 'вход' 'списан' 'логин']\n",
      "Тема 7: ['узна' 'срок' 'обрат' 'возможн' 'действ' 'месяц' 'хотел' 'реквизит'\n",
      " 'платеж' 'имен' 'офис' 'след' 'указа' 'найт' 'назад']\n",
      "Тема 8: ['кредит' 'ипотек' 'взят' 'рубл' 'работа' 'месяц' 'работ' 'причин' 'очен'\n",
      " 'услов' 'страховк' 'процент' 'договор' 'плат' 'зарплат']\n",
      "Тема 9: ['заблокирова' 'мошенник' 'клиент' 'приложен' 'ответ' 'числ' 'человек'\n",
      " 'потеря' 'звон' 'оператор' 'служб' 'позвон' 'арест' 'зачислен' 'поддержк']\n",
      "[0.9499905847823039, 0.9437484507251421, 0.924987310093525, 0.9181801296211617, 0.9181801296211617]\n",
      "[11950   116 19161 34330 30776]\n"
     ]
    },
    {
     "ename": "ValueError",
     "evalue": "dimension mismatch",
     "output_type": "error",
     "traceback": [
      "\u001b[1;31m---------------------------------------------------------------------------\u001b[0m",
      "\u001b[1;31mValueError\u001b[0m                                Traceback (most recent call last)",
      "\u001b[1;32m<ipython-input-9-ffe55fffc63c>\u001b[0m in \u001b[0;36m<module>\u001b[1;34m()\u001b[0m\n\u001b[0;32m      6\u001b[0m \u001b[0mtop5MinDist\u001b[0m\u001b[1;33m,\u001b[0m\u001b[0mtop5MinDistIdx\u001b[0m \u001b[1;33m=\u001b[0m \u001b[0mlf\u001b[0m\u001b[1;33m.\u001b[0m\u001b[0mget_5_nearest_Q_and_A_via_lda_probs\u001b[0m\u001b[1;33m(\u001b[0m\u001b[1;33m[\u001b[0m\u001b[0mi\u001b[0m\u001b[1;33m[\u001b[0m\u001b[0mcurQuestionTopicNum\u001b[0m\u001b[1;33m]\u001b[0m \u001b[1;32mfor\u001b[0m \u001b[0mi\u001b[0m \u001b[1;32min\u001b[0m \u001b[0mldaOutput\u001b[0m\u001b[1;33m]\u001b[0m\u001b[1;33m,\u001b[0m \u001b[0misDebug\u001b[0m\u001b[1;33m)\u001b[0m\u001b[1;33m\u001b[0m\u001b[0m\n\u001b[0;32m      7\u001b[0m \u001b[1;33m\u001b[0m\u001b[0m\n\u001b[1;32m----> 8\u001b[1;33m \u001b[0mlf\u001b[0m\u001b[1;33m.\u001b[0m\u001b[0mcalculate_summary_stats_for_method\u001b[0m\u001b[1;33m(\u001b[0m\u001b[0mcurQuestionVectorized\u001b[0m\u001b[1;33m,\u001b[0m \u001b[0mmatrixDoc2words\u001b[0m\u001b[1;33m[\u001b[0m\u001b[0mtop5MinDistIdx\u001b[0m\u001b[1;33m]\u001b[0m\u001b[1;33m)\u001b[0m\u001b[1;33m\u001b[0m\u001b[0m\n\u001b[0m\u001b[0;32m      9\u001b[0m \u001b[0mlf\u001b[0m\u001b[1;33m.\u001b[0m\u001b[0mshow_5_nearest_Q_A_prob\u001b[0m\u001b[1;33m(\u001b[0m\u001b[0mquestionsOriginal\u001b[0m\u001b[1;33m,\u001b[0m \u001b[0manswersOriginal\u001b[0m\u001b[1;33m,\u001b[0m \u001b[0mtop5MinDist\u001b[0m\u001b[1;33m,\u001b[0m \u001b[0mtop5MinDistIdx\u001b[0m\u001b[1;33m,\u001b[0m \u001b[0misDebug\u001b[0m\u001b[1;33m)\u001b[0m\u001b[1;33m\u001b[0m\u001b[0m\n\u001b[0;32m     10\u001b[0m \u001b[1;33m\u001b[0m\u001b[0m\n",
      "\u001b[1;32m~\\Anaconda2\\ya_sam\\lda_functions.py\u001b[0m in \u001b[0;36mcalculate_summary_stats_for_method\u001b[1;34m(currentQuestionVectorized, questionVect)\u001b[0m\n\u001b[0;32m    127\u001b[0m     \u001b[0mresult\u001b[0m \u001b[1;33m=\u001b[0m \u001b[1;36m.0\u001b[0m\u001b[1;33m\u001b[0m\u001b[0m\n\u001b[0;32m    128\u001b[0m     \u001b[1;32mfor\u001b[0m \u001b[0mcurrentQuestionVectorizedIter\u001b[0m \u001b[1;32min\u001b[0m \u001b[0mquestionVect\u001b[0m\u001b[1;33m:\u001b[0m\u001b[1;33m\u001b[0m\u001b[0m\n\u001b[1;32m--> 129\u001b[1;33m         \u001b[0mresult\u001b[0m \u001b[1;33m+=\u001b[0m \u001b[0mcalculate_cos_dist\u001b[0m\u001b[1;33m(\u001b[0m\u001b[0mcurrentQuestionVectorized\u001b[0m\u001b[1;33m,\u001b[0m \u001b[0mcurrentQuestionVectorizedIter\u001b[0m\u001b[1;33m)\u001b[0m\u001b[1;33m\u001b[0m\u001b[0m\n\u001b[0m\u001b[0;32m    130\u001b[0m     \u001b[0mprint\u001b[0m\u001b[1;33m(\u001b[0m\u001b[1;34m\"Сводное значение, рассчитаное через cos= \"\u001b[0m\u001b[1;33m,\u001b[0m \u001b[0mround\u001b[0m\u001b[1;33m(\u001b[0m\u001b[0mresult\u001b[0m\u001b[1;33m,\u001b[0m \u001b[1;36m5\u001b[0m\u001b[1;33m)\u001b[0m\u001b[1;33m)\u001b[0m\u001b[1;33m\u001b[0m\u001b[0m\n\u001b[0;32m    131\u001b[0m \u001b[1;33m\u001b[0m\u001b[0m\n",
      "\u001b[1;32m~\\Anaconda2\\ya_sam\\lda_functions.py\u001b[0m in \u001b[0;36mcalculate_cos_dist\u001b[1;34m(u, v)\u001b[0m\n\u001b[0;32m    120\u001b[0m \u001b[1;33m\u001b[0m\u001b[0m\n\u001b[0;32m    121\u001b[0m \u001b[1;32mdef\u001b[0m \u001b[0mcalculate_cos_dist\u001b[0m\u001b[1;33m(\u001b[0m\u001b[0mu\u001b[0m\u001b[1;33m,\u001b[0m \u001b[0mv\u001b[0m\u001b[1;33m)\u001b[0m\u001b[1;33m:\u001b[0m\u001b[1;33m\u001b[0m\u001b[0m\n\u001b[1;32m--> 122\u001b[1;33m     \u001b[1;32mreturn\u001b[0m \u001b[0mnp\u001b[0m\u001b[1;33m.\u001b[0m\u001b[0mdot\u001b[0m\u001b[1;33m(\u001b[0m\u001b[0mu\u001b[0m\u001b[1;33m,\u001b[0m \u001b[0mv\u001b[0m\u001b[1;33m)\u001b[0m \u001b[1;33m/\u001b[0m \u001b[0mnorm\u001b[0m\u001b[1;33m(\u001b[0m\u001b[0mu\u001b[0m\u001b[1;33m)\u001b[0m \u001b[1;33m/\u001b[0m \u001b[0mnorm\u001b[0m\u001b[1;33m(\u001b[0m\u001b[0mv\u001b[0m\u001b[1;33m)\u001b[0m  \u001b[1;31m# cosine of the angle\u001b[0m\u001b[1;33m\u001b[0m\u001b[0m\n\u001b[0m\u001b[0;32m    123\u001b[0m \u001b[1;33m\u001b[0m\u001b[0m\n\u001b[0;32m    124\u001b[0m \u001b[1;33m\u001b[0m\u001b[0m\n",
      "\u001b[1;32mC:\\ProgramData\\Anaconda3\\lib\\site-packages\\numpy\\linalg\\linalg.py\u001b[0m in \u001b[0;36mnorm\u001b[1;34m(x, ord, axis, keepdims)\u001b[0m\n\u001b[0;32m   2254\u001b[0m                 \u001b[0msqnorm\u001b[0m \u001b[1;33m=\u001b[0m \u001b[0mdot\u001b[0m\u001b[1;33m(\u001b[0m\u001b[0mx\u001b[0m\u001b[1;33m.\u001b[0m\u001b[0mreal\u001b[0m\u001b[1;33m,\u001b[0m \u001b[0mx\u001b[0m\u001b[1;33m.\u001b[0m\u001b[0mreal\u001b[0m\u001b[1;33m)\u001b[0m \u001b[1;33m+\u001b[0m \u001b[0mdot\u001b[0m\u001b[1;33m(\u001b[0m\u001b[0mx\u001b[0m\u001b[1;33m.\u001b[0m\u001b[0mimag\u001b[0m\u001b[1;33m,\u001b[0m \u001b[0mx\u001b[0m\u001b[1;33m.\u001b[0m\u001b[0mimag\u001b[0m\u001b[1;33m)\u001b[0m\u001b[1;33m\u001b[0m\u001b[0m\n\u001b[0;32m   2255\u001b[0m             \u001b[1;32melse\u001b[0m\u001b[1;33m:\u001b[0m\u001b[1;33m\u001b[0m\u001b[0m\n\u001b[1;32m-> 2256\u001b[1;33m                 \u001b[0msqnorm\u001b[0m \u001b[1;33m=\u001b[0m \u001b[0mdot\u001b[0m\u001b[1;33m(\u001b[0m\u001b[0mx\u001b[0m\u001b[1;33m,\u001b[0m \u001b[0mx\u001b[0m\u001b[1;33m)\u001b[0m\u001b[1;33m\u001b[0m\u001b[0m\n\u001b[0m\u001b[0;32m   2257\u001b[0m             \u001b[0mret\u001b[0m \u001b[1;33m=\u001b[0m \u001b[0msqrt\u001b[0m\u001b[1;33m(\u001b[0m\u001b[0msqnorm\u001b[0m\u001b[1;33m)\u001b[0m\u001b[1;33m\u001b[0m\u001b[0m\n\u001b[0;32m   2258\u001b[0m             \u001b[1;32mif\u001b[0m \u001b[0mkeepdims\u001b[0m\u001b[1;33m:\u001b[0m\u001b[1;33m\u001b[0m\u001b[0m\n",
      "\u001b[1;32mC:\\ProgramData\\Anaconda3\\lib\\site-packages\\scipy\\sparse\\base.py\u001b[0m in \u001b[0;36m__mul__\u001b[1;34m(self, other)\u001b[0m\n\u001b[0;32m    437\u001b[0m         \u001b[1;32mif\u001b[0m \u001b[0missparse\u001b[0m\u001b[1;33m(\u001b[0m\u001b[0mother\u001b[0m\u001b[1;33m)\u001b[0m\u001b[1;33m:\u001b[0m\u001b[1;33m\u001b[0m\u001b[0m\n\u001b[0;32m    438\u001b[0m             \u001b[1;32mif\u001b[0m \u001b[0mself\u001b[0m\u001b[1;33m.\u001b[0m\u001b[0mshape\u001b[0m\u001b[1;33m[\u001b[0m\u001b[1;36m1\u001b[0m\u001b[1;33m]\u001b[0m \u001b[1;33m!=\u001b[0m \u001b[0mother\u001b[0m\u001b[1;33m.\u001b[0m\u001b[0mshape\u001b[0m\u001b[1;33m[\u001b[0m\u001b[1;36m0\u001b[0m\u001b[1;33m]\u001b[0m\u001b[1;33m:\u001b[0m\u001b[1;33m\u001b[0m\u001b[0m\n\u001b[1;32m--> 439\u001b[1;33m                 \u001b[1;32mraise\u001b[0m \u001b[0mValueError\u001b[0m\u001b[1;33m(\u001b[0m\u001b[1;34m'dimension mismatch'\u001b[0m\u001b[1;33m)\u001b[0m\u001b[1;33m\u001b[0m\u001b[0m\n\u001b[0m\u001b[0;32m    440\u001b[0m             \u001b[1;32mreturn\u001b[0m \u001b[0mself\u001b[0m\u001b[1;33m.\u001b[0m\u001b[0m_mul_sparse_matrix\u001b[0m\u001b[1;33m(\u001b[0m\u001b[0mother\u001b[0m\u001b[1;33m)\u001b[0m\u001b[1;33m\u001b[0m\u001b[0m\n\u001b[0;32m    441\u001b[0m \u001b[1;33m\u001b[0m\u001b[0m\n",
      "\u001b[1;31mValueError\u001b[0m: dimension mismatch"
     ]
    }
   ],
   "source": [
    "#показать все ключевые нормированые слова исходя из модели по темам\n",
    "if isDebug:\n",
    "    lf.show_most_freq_words_per_theme_via_lda(ldaModel, vectorizer.get_feature_names())"
   ]
  },
  {
   "cell_type": "code",
   "execution_count": null,
   "metadata": {
    "ExecuteTime": {
     "end_time": "2018-06-08T06:28:34.336316Z",
     "start_time": "2018-06-08T06:25:26.941Z"
    },
    "code_folding": []
   },
   "outputs": [],
   "source": [
    "#разное бесполезное\n",
    "\n",
    "#получить 15 ключевых слов из каждой темы через короткие нормированные слова\n",
    "lf.show_most_freq_words_per_theme_via_lda (ldaModel, vectorizer.get_feature_names())\n",
    "\n",
    "#размеры кластеров\n",
    "#for cluster_num in range(len(set(Q2themes))):\n",
    "#    print (\"Размер кластера {}: {}\".format(cluster_num, np.array(np.where(Q2themes == cluster_num)).size))\n",
    "    \n",
    "#tf.show_top_freq_words(questions_norm, 24)\n",
    "    \n",
    "    \n",
    "#распределение тем в документе:\n",
    "print (ldaOutput[30400])\n",
    "#распределение слов в теме:\n",
    "print (ldaModel.components_[5])\n",
    "#слова из словаря:\n",
    "print (vectorizer.get_feature_names())"
   ]
  }
 ],
 "metadata": {
  "kernelspec": {
   "display_name": "Python 3",
   "language": "python",
   "name": "python3"
  },
  "language_info": {
   "codemirror_mode": {
    "name": "ipython",
    "version": 3
   },
   "file_extension": ".py",
   "mimetype": "text/x-python",
   "name": "python",
   "nbconvert_exporter": "python",
   "pygments_lexer": "ipython3",
   "version": "3.6.4"
  }
 },
 "nbformat": 4,
 "nbformat_minor": 2
}
