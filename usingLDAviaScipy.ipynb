{
 "cells": [
  {
   "cell_type": "code",
   "execution_count": 1,
   "metadata": {
    "ExecuteTime": {
     "end_time": "2018-06-20T12:22:40.319596Z",
     "start_time": "2018-06-20T12:22:29.655508Z"
    },
    "scrolled": true
   },
   "outputs": [
    {
     "name": "stderr",
     "output_type": "stream",
     "text": [
      "C:\\ProgramData\\Anaconda3\\lib\\importlib\\_bootstrap.py:219: ImportWarning: can't resolve package from __spec__ or __package__, falling back on __name__ and __path__\n",
      "  return f(*args, **kwds)\n",
      "C:\\ProgramData\\Anaconda3\\lib\\site-packages\\pandas\\core\\dtypes\\dtypes.py:369: DeprecationWarning: invalid escape sequence \\[\n",
      "  _match = re.compile(\"(datetime64|M8)\\[(?P<unit>.+), (?P<tz>.+)\\]\")\n",
      "C:\\ProgramData\\Anaconda3\\lib\\site-packages\\pandas\\core\\strings.py:399: DeprecationWarning: invalid escape sequence \\w\n",
      "  \"\"\"\n",
      "C:\\ProgramData\\Anaconda3\\lib\\site-packages\\pandas\\core\\strings.py:677: DeprecationWarning: invalid escape sequence \\d\n",
      "  \"\"\"\n",
      "C:\\ProgramData\\Anaconda3\\lib\\site-packages\\pandas\\core\\frame.py:2679: DeprecationWarning: invalid escape sequence \\*\n",
      "  \"\"\"\n",
      "C:\\ProgramData\\Anaconda3\\lib\\site-packages\\pandas\\io\\formats\\format.py:1001: DeprecationWarning: invalid escape sequence \\m\n",
      "  \"\"\"\n",
      "C:\\ProgramData\\Anaconda3\\lib\\site-packages\\pandas\\io\\formats\\format.py:1062: DeprecationWarning: invalid escape sequence \\c\n",
      "  buf.write('\\cline{{{cl:d}-{icol:d}}}\\n'\n",
      "C:\\ProgramData\\Anaconda3\\lib\\site-packages\\pandas\\io\\parsers.py:159: DeprecationWarning: invalid escape sequence \\s\n",
      "  NaN: '\"\"\" + fill(\"', '\".join(sorted(_NA_VALUES)),\n",
      "C:\\ProgramData\\Anaconda3\\lib\\importlib\\_bootstrap.py:219: ImportWarning: can't resolve package from __spec__ or __package__, falling back on __name__ and __path__\n",
      "  return f(*args, **kwds)\n",
      "C:\\ProgramData\\Anaconda3\\lib\\site-packages\\nltk\\featstruct.py:1206: DeprecationWarning: invalid escape sequence \\d\n",
      "  name, n = re.sub('\\d+$', '', var.name), 2\n",
      "C:\\ProgramData\\Anaconda3\\lib\\site-packages\\nltk\\sem\\evaluate.py:281: DeprecationWarning: invalid escape sequence \\ \n",
      "  \"\"\"\n",
      "C:\\ProgramData\\Anaconda3\\lib\\site-packages\\nltk\\sem\\relextract.py:111: DeprecationWarning: invalid escape sequence \\w\n",
      "  ENT = re.compile(\"&(\\w+?);\")\n",
      "C:\\ProgramData\\Anaconda3\\lib\\site-packages\\nltk\\sem\\relextract.py:356: DeprecationWarning: invalid escape sequence \\s\n",
      "  \"\"\"\n",
      "C:\\ProgramData\\Anaconda3\\lib\\site-packages\\nltk\\grammar.py:1138: DeprecationWarning: invalid escape sequence \\*\n",
      "  \"\"\"\n",
      "C:\\ProgramData\\Anaconda3\\lib\\site-packages\\nltk\\tree.py:809: DeprecationWarning: invalid escape sequence \\$\n",
      "  reserved_chars = re.compile('([#\\$%&~_\\{\\}])')\n",
      "C:\\ProgramData\\Anaconda3\\lib\\importlib\\_bootstrap.py:219: ImportWarning: can't resolve package from __spec__ or __package__, falling back on __name__ and __path__\n",
      "  return f(*args, **kwds)\n",
      "C:\\ProgramData\\Anaconda3\\lib\\site-packages\\sklearn\\externals\\joblib\\func_inspect.py:53: DeprecationWarning: invalid escape sequence \\<\n",
      "  '\\<doctest (.*\\.rst)\\[(.*)\\]\\>', source_file).groups()\n",
      "C:\\ProgramData\\Anaconda3\\lib\\site-packages\\sklearn\\externals\\joblib\\_memory_helpers.py:10: DeprecationWarning: invalid escape sequence \\s\n",
      "  cookie_re = re.compile(\"coding[:=]\\s*([-\\w.]+)\")\n",
      "C:\\ProgramData\\Anaconda3\\lib\\importlib\\_bootstrap.py:219: ImportWarning: can't resolve package from __spec__ or __package__, falling back on __name__ and __path__\n",
      "  return f(*args, **kwds)\n",
      "C:\\ProgramData\\Anaconda3\\lib\\site-packages\\sklearn\\datasets\\samples_generator.py:839: DeprecationWarning: invalid escape sequence \\#\n",
      "  \"\"\"\n",
      "C:\\ProgramData\\Anaconda3\\lib\\site-packages\\sklearn\\datasets\\samples_generator.py:1429: DeprecationWarning: invalid escape sequence \\c\n",
      "  \"\"\"\n",
      "C:\\ProgramData\\Anaconda3\\lib\\site-packages\\sklearn\\metrics\\classification.py:349: DeprecationWarning: invalid escape sequence \\k\n",
      "  \"\"\"\n",
      "C:\\ProgramData\\Anaconda3\\lib\\site-packages\\sklearn\\metrics\\cluster\\supervised.py:578: DeprecationWarning: invalid escape sequence \\s\n",
      "  \"\"\"\n",
      "C:\\ProgramData\\Anaconda3\\lib\\site-packages\\sklearn\\linear_model\\omp.py:343: DeprecationWarning: invalid escape sequence \\g\n",
      "  \"\"\"\n",
      "C:\\ProgramData\\Anaconda3\\lib\\site-packages\\nltk\\tokenize\\regexp.py:102: DeprecationWarning: invalid escape sequence \\w\n",
      "  \"\"\"\n",
      "C:\\ProgramData\\Anaconda3\\lib\\site-packages\\nltk\\tokenize\\repp.py:132: DeprecationWarning: invalid escape sequence \\(\n",
      "  line_regex = re.compile('^\\((\\d+), (\\d+), (.+)\\)$', re.MULTILINE)\n",
      "C:\\ProgramData\\Anaconda3\\lib\\site-packages\\nltk\\tokenize\\texttiling.py:96: DeprecationWarning: invalid escape sequence \\-\n",
      "  if re.match(\"[a-z\\-\\' \\n\\t]\", c))\n",
      "C:\\ProgramData\\Anaconda3\\lib\\site-packages\\nltk\\tokenize\\toktok.py:51: DeprecationWarning: invalid escape sequence \\]\n",
      "  FUNKY_PUNCT_1 = re.compile(u'([،;؛¿!\"\\])}»›”؟¡%٪°±©®।॥…])'), r\" \\1 \"\n",
      "C:\\ProgramData\\Anaconda3\\lib\\site-packages\\nltk\\tokenize\\toktok.py:53: DeprecationWarning: invalid escape sequence \\[\n",
      "  FUNKY_PUNCT_2 = re.compile(u'([({\\[“‘„‚«‹「『])'), r\" \\1 \"\n",
      "C:\\ProgramData\\Anaconda3\\lib\\site-packages\\nltk\\tokenize\\toktok.py:60: DeprecationWarning: invalid escape sequence \\|\n",
      "  PIPE = re.compile('\\|'), ' &#124; '\n",
      "C:\\ProgramData\\Anaconda3\\lib\\site-packages\\nltk\\chunk\\util.py:360: DeprecationWarning: invalid escape sequence \\S\n",
      "  _LINE_RE = re.compile('(\\S+)\\s+(\\S+)\\s+([IOB])-?(\\S+)?')\n",
      "C:\\ProgramData\\Anaconda3\\lib\\site-packages\\nltk\\tag\\sequential.py:714: DeprecationWarning: invalid escape sequence \\W\n",
      "  elif re.match('\\W+$', word):\n",
      "C:\\ProgramData\\Anaconda3\\lib\\site-packages\\nltk\\tag\\sequential.py:712: DeprecationWarning: invalid escape sequence \\.\n",
      "  if re.match('[0-9]+(\\.[0-9]*)?|[0-9]*\\.[0-9]+$', word):\n",
      "C:\\ProgramData\\Anaconda3\\lib\\site-packages\\nltk\\classify\\maxent.py:1276: DeprecationWarning: invalid escape sequence \\ \n",
      "  \"\"\"\n",
      "C:\\ProgramData\\Anaconda3\\lib\\site-packages\\nltk\\chunk\\regexp.py:71: DeprecationWarning: invalid escape sequence \\{\n",
      "  _BRACKETS = re.compile('[^\\{\\}]+')\n",
      "C:\\ProgramData\\Anaconda3\\lib\\site-packages\\nltk\\chunk\\regexp.py:736: DeprecationWarning: invalid escape sequence \\}\n",
      "  regexp = re.compile('(?P<left>%s)\\}(?P<right>%s)' %\n",
      "C:\\ProgramData\\Anaconda3\\lib\\site-packages\\nltk\\stem\\lancaster.py:194: DeprecationWarning: invalid escape sequence \\*\n",
      "  valid_rule = re.compile(\"^[a-z]+\\*?\\d[a-z]*[>\\.]?$\")\n",
      "C:\\ProgramData\\Anaconda3\\lib\\site-packages\\nltk\\stem\\porter.py:180: DeprecationWarning: invalid escape sequence \\m\n",
      "  \"\"\"\n",
      "C:\\ProgramData\\Anaconda3\\lib\\site-packages\\nltk\\corpus\\reader\\util.py:597: DeprecationWarning: invalid escape sequence \\d\n",
      "  if re.match('^\\d+-\\d+', line) is not None:\n",
      "C:\\ProgramData\\Anaconda3\\lib\\site-packages\\nltk\\toolbox.py:196: DeprecationWarning: invalid escape sequence \\_\n",
      "  \"\"\"\n",
      "C:\\ProgramData\\Anaconda3\\lib\\site-packages\\nltk\\ccg\\combinator.py:226: DeprecationWarning: invalid escape sequence \\Y\n",
      "  \"\"\"\n"
     ]
    }
   ],
   "source": [
    "%load_ext autoreload\n",
    "%autoreload 2\n",
    "import warnings\n",
    "warnings.filterwarnings(action='once')\n",
    "import numpy as np\n",
    "import data_functions as df\n",
    "import text_functions as tf\n",
    "import analitics_functions as af\n",
    "import lda_functions as lf\n",
    "\n",
    "from sklearn.decomposition import LatentDirichletAllocation, TruncatedSVD\n",
    "from sklearn.feature_extraction.text import CountVectorizer, TfidfVectorizer\n",
    "from sklearn.model_selection import GridSearchCV\n",
    "\n",
    "import matplotlib.pyplot as plt\n",
    "%matplotlib inline\n",
    "\n",
    "#задаем режим работы - FAST/NORMAL\n",
    "mode='FAST'\n",
    "isDebug=True"
   ]
  },
  {
   "cell_type": "code",
   "execution_count": 2,
   "metadata": {
    "ExecuteTime": {
     "end_time": "2018-06-20T12:23:05.976113Z",
     "start_time": "2018-06-20T12:22:40.319596Z"
    },
    "code_folding": [
     0
    ]
   },
   "outputs": [
    {
     "name": "stdout",
     "output_type": "stream",
     "text": [
      "\n",
      "loading data, please wait...\n",
      "loading data DONE\n",
      "<Загрузка из дампа>\n",
      "\n",
      "Всего слов в словаре: 3307\n",
      "Sparsicity (матрица разряженности нулей и неНулей):  0.3007117421210558 %\n",
      "\n",
      "Загрузка модели...\n",
      "Загрузка модели завершена!\n",
      "\n",
      "Все ключевые нормированые слова в найденных темах:\n",
      "Тема 0: ['срок' 'действ' 'заявлен' 'заявк' 'скольк' 'написа' 'ответ' 'недел'\n",
      " 'прошл' 'времен' 'сайт' 'ждат' 'дебетов' 'дизайн' 'перевыпуск']\n",
      "Тема 1: ['услуг' 'платеж' 'месяц' 'получа' 'отключ' 'возможн' 'мобильн' 'оформ'\n",
      " 'книжк' 'клиент' 'зарплат' 'плат' 'работа' 'сбер' 'квартир']\n",
      "Тема 2: ['сегодн' 'паспорт' 'заблокирова' 'поменя' 'баланс' 'снят' 'числ' 'пришл'\n",
      " 'потеря' 'узна' 'готов' 'арест' 'итог' 'полож' 'оста']\n",
      "Тема 3: ['работа' 'говор' 'обслуживан' 'звон' 'оператор' 'момент' 'ответ' 'позвон'\n",
      " 'выдач' 'наход' 'моментум' 'сайт' 'клиент' 'прост' 'служб']\n",
      "Тема 4: ['сотрудник' 'узна' 'работ' 'должн' 'указа' 'документ' 'обращен' 'договор'\n",
      " 'привяза' 'хотел' 'писа' 'услов' 'ситуац' 'центр' 'город']\n",
      "Тема 5: ['рубл' 'вернут' 'пришл' 'интернет' 'средств' 'покупк' 'перевел' 'добр'\n",
      " 'сегодн' 'денег' 'поступ' 'снял' 'магазин' 'вчер' 'списа']\n",
      "Тема 6: ['снят' 'средств' 'перевест' 'вклад' 'банкомат' 'комисс' 'откр' 'карточк'\n",
      " 'счёт' 'наличн' 'росс' 'денег' 'город' 'выписк' 'москв']\n",
      "Тема 7: ['процент' 'информац' 'дебетов' 'забра' 'област' 'реквизит' 'нормальн'\n",
      " 'зарплатн' 'кредитк' 'смог' 'касс' 'открыва' 'справк' 'доход' 'сторон']\n",
      "Тема 8: ['приход' 'мобильн' 'парол' 'сообщен' 'операц' 'приложен' 'личн' 'подключ'\n",
      " 'проблем' 'пишет' 'кабинет' 'закр' 'подтвержден' 'пыта' 'регион']\n",
      "Тема 9: ['кредит' 'мошенник' 'взят' 'человек' 'ипотек' 'сраз' 'причин' 'перв'\n",
      " 'платеж' 'отказа' 'страховк' 'очен' 'ставк' 'долг' 'погашен']\n",
      "\n",
      "Все ключевые слова в темах модели:\n",
      "Тема 0: срок действия заявление заявку сколько написано ответ недели прошло времени сайте ждать дебетовую дизайном перевыпуск\n",
      "Тема 1: услуги платеж месяц получается отключить возможно мобильный оформить сберкнижки клиентов зарплатной платеж работает сбербанк квартиру\n",
      "Тема 2: сегодня паспорт заблокирована поменять баланс снять числа пришло потерял узнать готова арест итоге положить остаток\n",
      "Тема 3: работает договор обслуживание позвонить оператор момент ответ позвонить выдаче находится моментум сайте клиентов просто службу\n",
      "Тема 4: сотрудники узнать работает должны указан документы обращение договор привязать хотел написано условия ситуация центр городе\n",
      "Тема 5: рублей вернуть пришло интернет средств покупку перевели доброго сегодня денег поступили сняли магазине вчера списание\n",
      "Тема 6: снять средств перевести вклад банкомат комиссия открывать карточку счёт наличных россии денег городе выписку москве\n",
      "Тема 7: процент информацию дебетовую забрать области реквизиты нормально зарплатной кредитку смогу кассу открывать справку доход стороны\n",
      "Тема 8: приходит мобильный пароль сообщение операции приложение наличных подключить проблема пишет кабинет закрыть подтверждения пытаюсь регионе\n",
      "Тема 9: кредит мошенники взять человек ипотеку сразу причине первый платеж отказали страховку очень ставка долго погашения\n"
     ]
    }
   ],
   "source": [
    "#создаем/загружаем массивы данных\n",
    "questionsAnswers, questionsOriginal, answersOriginal, questionsNormalized=df.load_data(mode)\n",
    "dictionary=df.create_dictionary(questionsNormalized,10,3000, mode)\n",
    "\n",
    "#делаем матрицу слов и документов и выводим разряженность\n",
    "vectorizer = CountVectorizer(analyzer='word', vocabulary=dictionary)\n",
    "dataVectorized = vectorizer.fit_transform(' '.join(t) for t in questionsNormalized[:])\n",
    "matrixDoc2words=np.array(dataVectorized.todense())\n",
    "if isDebug:\n",
    "    af.check_sparsity(matrixDoc2words)\n",
    "    \n",
    "# грузим лучшую модель исходя их той, которая найдена по gridSearch c соседнем jupyterNoteBook\n",
    "ldaModel, ldaOutput=lf.load_best_lda(calculatedModel='DUMP_bestLDAModel.pkl', calculatedModelOutput='DUMP_bestLDAModelOutput.pkl')\n",
    "\n",
    "#получим вектор столбец с темой по каждому документу   \n",
    "question2themesVector=np.argmax(ldaOutput,axis=1)\n",
    "\n",
    "#показать все ключевые нормированые слова исходя из модели по темам\n",
    "if isDebug:\n",
    "    lf.show_most_freq_words_per_theme_via_lda(ldaModel, vectorizer.get_feature_names())\n",
    "\n",
    "#показать названия кластеров,то есть\n",
    "#уникальные леммы слов в темах модели и сопоставляем их с наиболее часто встречающиеся из всех ненормированных слов\n",
    "mostFreqWordsPerThemes=lf.get_most_freq_words_per_theme(vectorizer.get_feature_names(), ldaModel, questionsOriginal)\n",
    "lf.show_most_freq_words_per_theme(mostFreqWordsPerThemes)"
   ]
  },
  {
   "cell_type": "code",
   "execution_count": 3,
   "metadata": {
    "ExecuteTime": {
     "end_time": "2018-06-20T12:23:12.988569Z",
     "start_time": "2018-06-20T12:23:05.976113Z"
    }
   },
   "outputs": [
    {
     "name": "stderr",
     "output_type": "stream",
     "text": [
      "C:\\ProgramData\\Anaconda3\\lib\\site-packages\\nltk\\corpus\\reader\\wordlist.py:28: ResourceWarning: unclosed file <_io.BufferedReader name='C:\\\\Users\\\\mike\\\\AppData\\\\Roaming\\\\nltk_data\\\\corpora\\\\stopwords\\\\russian'>\n",
      "  return concat([self.open(f).read() for f in fileids])\n"
     ]
    },
    {
     "name": "stdout",
     "output_type": "stream",
     "text": [
      "sddsdds\n"
     ]
    }
   ],
   "source": [
    "# ВВЕДИТЕ ВОПРОС ТУТ (curQuestionRaw)\n",
    "curQuestionRaw='по «пополняй» и ограничение на максимальную сумму вклада, которая равна первоначальному увеличенному в 10 на разницу между фактической и максимальной будут по ставке умноженной на 1/2. я открыла счет \"пополняй \" год назад в \"онлайн\". мой взнос равнялся 1000 руб., и каждый месяц я счёт на 1000 когда на 11000 руб., было предупреждение о максимального остатка на счёте. это как  что больше 10000 руб. (в данном случае) на счету нельзя я открыла счет на срок до 3 лет, с пролонгацией и пополнением счёта. быть, есть  нибудь другой вклад без на максимальный остаток вклада?'\n",
    "#тестовые вопросы, которые использовались для отладки\n",
    "#curQuestionRaw='по «пополняй» и ограничение на максимальную сумму вклада, которая равна первоначальному увеличенному в 10 на разницу между фактической и максимальной будут по ставке умноженной на 1/2. я открыла счет \"пополняй \" год назад в \"онлайн\". мой взнос равнялся 1000 руб., и каждый месяц я счёт на 1000 когда на 11000 руб., было предупреждение о максимального остатка на счёте. это как  что больше 10000 руб. (в данном случае) на счету нельзя я открыла счет на срок до 3 лет, с пролонгацией и пополнением счёта. быть, есть  нибудь другой вклад без на максимальный остаток вклада?'\n",
    "#curQuestionRaw='я гражданин украины, хотел бы снять деньги на территории россии в сбербанке с долларовой карточки украинского банк. если это возможно, то какая будет комиссия? снять можно только в банкомате или в отделении сбербанка? в чем возможно снять в рублях или долларах?'\n",
    "#curQuestionRaw='а если того номера к которой прикреплена карта нету. т.е. утеряна сим-корта, но номер помню.'\n",
    "curQuestionNorm=[' '.join(tf.clean_text(curQuestionRaw))]\n",
    "curQuestionVectorized = vectorizer.transform(curQuestionNorm)\n",
    "curQuestionTopicNum=lf.get_num_topic(curQuestionVectorized, ldaModel)\n",
    "curQuestionVectorized = vectorizer.transform(curQuestionNorm).toarray()[0]"
   ]
  },
  {
   "cell_type": "code",
   "execution_count": 4,
   "metadata": {
    "ExecuteTime": {
     "end_time": "2018-06-20T12:23:16.319271Z",
     "start_time": "2018-06-20T12:23:12.991574Z"
    }
   },
   "outputs": [
    {
     "name": "stdout",
     "output_type": "stream",
     "text": [
      "[0.9499965679764094, 0.9460338859963738, 0.9389833974512926, 0.9249981748027674, 0.9249959144430323]\n",
      "[   69    21   109 27118 18333]\n",
      "Сводное значение, рассчитаное через cos=  0.50052\n",
      "\n",
      "--==Ближайшие пять вопросов среди всех вопросов (через темы модели)==--\n",
      "ВОПРОС: в г.омске положил на вклад \"сохраняй\"(на 1 месяц с последующей пролонгацией) деньги,могу ли снять деньги в москве, какова будет комиссия с этой суммы при отправке и получении денег в  филиале сбербанка? сколько времени потребутся для получения?\n",
      "ОТВЕТ:   вы можете получить денежные средства по вкладу в любом отделении сбербанка, как с открытием счета, так и без открытия счета. возможен запрос, как всей суммы вклада, так и части вклада (если предусмотрено условиями вклада). при этом необходимо оформить заявление о переводе ф. №143, предоставить сберегательную книжку (в случае ее утраты к заявлению о переводе ф. №143 должно быть приложено заявление об утрате сберегательной книжки ф. №285) и паспорт. срок исполнения перевода 5 рабочих дней.\n",
      "ВЕРОЯТНОСТЬ: 0.9499965679764094\n",
      "НОМЕР ВОПРОСА В МАССИВЕ: 69\n",
      "\n",
      "ВОПРОС: проблема такая - необходимо перевести деньги со карточки сбербанка (рублевой) в другую страну (ю. корея). имеется счёт в местном банке (счёт открыт в местной валюте). как я понял, необходимо выполнить swift-перевод, список документов, необходимых для этого, у меня есть. скажите пожалуйста, какая комиссия взимается банком за такой перевод? и можно ли его выполнить в системе сбербанк.онлайн?  просто есть вариант перевести на карту сбербанка (молодежную) и снять в банкомате в корее, вопрос в том, где я меньше потеряю. заранее спасибо!\n",
      "ОТВЕТ:    александр, при переводе денежных средств со счета в сбербанке в другую кредитную организацию, находящуюся за пределами рф, взимается комиссия 2% от суммы перевода, min 50 руб., max 1500 руб. за перевод. перевод возможно осуществить через отделение банка.  с помощью системы сбербанк онл@йн переводы осуществляются только в пределах рф.  при снятии денежных средств с дебетовой карты сбербанка в банкоматах сторонних кредитных организаций взимается комиссия в размере 1% от суммы (min 100руб.), с кредитной карты - 4% от суммы, но не менее 100 руб.(не менее 199 руб. по картам тарифный план «один»). также возможна комиссия стороннего банка, размер которой вы можете уточнить непосредственно в этом банке. снимать денежные средства с карты вы будете в валюте той страны, в которой будете находиться.\n",
      "ВЕРОЯТНОСТЬ: 0.9460338859963738\n",
      "НОМЕР ВОПРОСА В МАССИВЕ: 21\n",
      "\n",
      "ВОПРОС: хотел бы узнать о карте visa и задать интересующие вопросы. летом еду за границу, соответственно покупки совершаемые там, будут в их валюте. я правильно понимаю, что могу предварительно положить определённое кол-во денег на карту, и в другой стране в банкомате или банке снять деньги эти в нужной валюте? а также для совершения покупок через интернет, допустим ebay, также необходима карточка visa.  какая нужна для этого карта (заграницы и покупок через интернет), их вроде бы несколько? у меня имеется карта visa, которую выдали при устраивании на работу, с который я получаю заработную плату, могу ли я её использовать или нет и нужно идти в банк и там уже получать определённую карту? если нужно идти, какие с собой иметь документ и платно ли получение карточки?\n",
      "ОТВЕТ:    при снятии денежных средств с дебетовой карты сбербанка в банкоматах сторонних кредитных организаций взимается комиссия в размере 1% от суммы (min 100руб.). если у вас карта visa classic, вы сможете воспользоваться ей за границей.\n",
      "ВЕРОЯТНОСТЬ: 0.9389833974512926\n",
      "НОМЕР ВОПРОСА В МАССИВЕ: 109\n",
      "\n",
      "ВОПРОС: , скажите пожалуйста, я как гражданин украины (живу в донецке) могу приехать в ростов на дону и получить карту вашего банка? или открыть счет, чтоб получать переводы на него из городов россии и обналичивать в ростове на дону?\n",
      "ОТВЕТ:  да, это возможно, если вы желаете оформить дебетовую карту. для этого необходимо обратиться в любой офис банка с документом, удостоверяющим личность и документом, подтверждающим право пребывания на территории рф. кредитные карты иностранным гражданам, к сожалению, не выдаются.\n",
      "ВЕРОЯТНОСТЬ: 0.9249981748027674\n",
      "НОМЕР ВОПРОСА В МАССИВЕ: 27118\n",
      "\n",
      "ВОПРОС: подскажите, пожалуйста. можно ли открыть счёт в долларах? положить на счёт в отделении банка 100 000 долл. и перечислить со счёта на счёт за границу? какая комиссия при этом взимается?\n",
      "ОТВЕТ:  да, в нашем банке предоставлена возможность открытия счета в иностранной валюте. при оформлении международного перевода со счета в другую кредитную организацию взимается комиссия в размере 1 % от суммы, минимум 15 долларов сша, максимум – 200 долларов сша.\n",
      "ВЕРОЯТНОСТЬ: 0.9249959144430323\n",
      "НОМЕР ВОПРОСА В МАССИВЕ: 18333\n",
      "\n"
     ]
    },
    {
     "name": "stderr",
     "output_type": "stream",
     "text": [
      "C:\\Users\\mike\\Anaconda2\\ya_sam\\lda_functions.py:138: RuntimeWarning: invalid value encountered in double_scalars\n",
      "  return np.dot(u, v) / norm(u) / norm(v)  # cosine of the angle\n"
     ]
    },
    {
     "name": "stdout",
     "output_type": "stream",
     "text": [
      "[0.54997194 0.54997194 0.54433105 0.91233125 0.56853524]\n",
      "[10933 36232 24082 30150  1641]\n",
      "Сводное значение, рассчитаное через cos=  3.12514\n",
      "\n",
      "--==Ближайшие пять вопросов среди всех вопросов (через близость вектора слов)==--\n",
      "ВОПРОС: какой сейчас максимальный процент по вкладу?\n",
      "ОТВЕТ:  максимальный размер процентной ставки установлен по вкладам «сохраняй» и «сохраняй онлайн». при их открытии на сумму от 700 000 рублей на срок от 6 месяцев до 1 года он составит 10,30% (10,52% при условии капитализации) и 11,25% (11,52%) соответственно. более подробная информация о вкладах и установленных по ним процентным ставкам в зависимости от суммы и срока размещена на сайте по ссылке http://www.sberbank.ru/tatarstan/ru/person/contributions/deposits/.\n",
      "ВЕРОЯТНОСТЬ: 0.5499719409228704\n",
      "\n",
      "ВОПРОС: , я открыл вклад пополняй онлайн на сумму 14000 рублей. до какой суммы я могу пополнить этот вклад и каков процент начисления будет если я превышу максимальную сумму?\n",
      "ОТВЕТ:  если сумма вклада превысит сумму, на которую был открыт вклад, в 10 раз, то процент будет начисляться по ставке ½ ставки по вкладу.    подробнее об этом на нашем сайте: http://www.sberbank.ru/ru/p erson/contributions/deposits/renew.\n",
      "ВЕРОЯТНОСТЬ: 0.5499719409228704\n",
      "\n",
      "ВОПРОС: какой максимальный перевод по сбербанку онлайн с карты на карту?\n",
      "ОТВЕТ:  сумма лимита зависит от типа карты и от способа подтверждения операции. более детальную информацию вы можете уточнить в контактном центре банка по бесплатному номеру 8-800-555-555-0.\n",
      "ВЕРОЯТНОСТЬ: 0.5443310539518174\n",
      "\n",
      "ВОПРОС: по вкладам «пополняй» и «управляй» действует ограничение на максимальную сумму вклада, которая равна первоначальному взносу, увеличенному в 10 раз.. на разницу между фактической и максимальной суммой проценты будут рассчитаны по ставке вклада, умноженной на 1/2. я открыла счет \"пополняй \" год назад в \"сбербанк онлайн\". мой первоначальный взнос равнялся 1000 руб., и каждый месяц я пополняла счёт на 1000 руб. когда на счету стало 11000 руб., было предупреждение о превышении максимального остатка на счёте. это как понимать, что больше 10000 руб. (в данном случае) на счету нельзя хранить? я открыла счет на срок до 3 лет, с возможной пролонгацией и дальнейшим пополнением счёта. может быть, есть какой- нибудь другой вклад без ограничения на максимальный остаток вклада?\n",
      "ОТВЕТ:   для возврата средств рекомендуем направить письмо по адресу электронной почты help@sberbank.ru. в нем, пожалуйста, подробно опишите ситуацию, скопируйте переписку с компанией aliexpress об отмене транзакции и о возврате средств на карту, укажите ваши фио, контактный номер телефона, первые 6 цифр и последние 4 цифры номера карты, серию и номер паспорта, реквизиты совершенной операции. срок возврата средств по картам maestro составляет 8 дней.  если вы уже направляли переписку по указанному адресу, рекомендуем обратиться в контактный центр банка по бесплатному номеру 8-800-555-555-0 для анализа операций. при необходимости специалист банка оформит обращение в режиме диалога\n",
      "ВЕРОЯТНОСТЬ: 0.9123312478220621\n",
      "\n",
      "ВОПРОС: что значит данный пункт в условиях вклада пополняйонлайн? можно пример?  при востребовании вкладов по истечении 6 месяцев основного/пролонгированного срока, у которых остаток превышает максимальную сумму, к разнице между фактическим остатком и максимальной суммой дополнительно к коэффициенту 2/3 применяется понижающий коэффициент – ½. эти коэффициенты применяются к ставке, действовавшей по вкладу на дату открытия/пролонгации.\n",
      "ОТВЕТ:   ознакомиться с условиями размещения вкладов вы можете на сайте банка, перейдя по ссылке http://www.sberbank.ru/voronezh/ru/person/contributions/deposits/\n",
      "ВЕРОЯТНОСТЬ: 0.5685352436149612\n",
      "\n",
      "[0.54997194 0.5143445  0.48112522 0.48112522 0.91233125]\n",
      "[5042 2069 3528 1707 4247]\n",
      "Сводное значение, рассчитаное через cos=  2.9389\n",
      "\n",
      "--==Ближайшие пять вопросов среди всех вопросов в этом кластере (через близость вектора слов)==--\n",
      "ВОПРОС: , я открыл вклад пополняй онлайн на сумму 14000 рублей. до какой суммы я могу пополнить этот вклад и каков процент начисления будет если я превышу максимальную сумму?\n",
      "ОТВЕТ:  если сумма вклада превысит сумму, на которую был открыт вклад, в 10 раз, то процент будет начисляться по ставке ½ ставки по вкладу.    подробнее об этом на нашем сайте: http://www.sberbank.ru/ru/p erson/contributions/deposits/renew.\n",
      "ВЕРОЯТНОСТЬ: 0.5499719409228704\n",
      "НОМЕР ВОПРОСА В МАССИВЕ: 5042\n",
      "\n",
      "ВОПРОС: открыл вклад \"пополняй\" в банке,могу ли я подключить  на лиц. счет этого вклада сбербанк онлайн ?\n",
      "ОТВЕТ:  для доступа в систему «сбербанк онлайн» необходимо иметь карту нашего банка с подключенной к ней услугой «мобильный банк». для полноценного использования всех возможностей системы сбербанк онлайн необходимо также оформить удбо (универсальный договор банковского обслуживания) в отделении банка. для входа в систему необходимо перейти по ссылке «сбербанк онлайн» в верхней части сайта (https://online.sberbank.ru/csafront/index.do) и воспользоваться одним из следующих способов: 1. перейти по ссылке «впервые в сбербанк онлайн? – регистрация», ввести номер активной карты, смс-пароль, который придет на мобильный телефон (подключенный к услуге «мобильный банк»), придумать логин и пароль для доступа в систему; 2. ввести идентификатор пользователя и постоянный пароль, которые можно получить в любом банкомате или платежном терминале нашего банка с помощью банковской карты.\n",
      "ВЕРОЯТНОСТЬ: 0.5143444998736397\n",
      "НОМЕР ВОПРОСА В МАССИВЕ: 2069\n",
      "\n",
      "ВОПРОС: как открыть вклад в сбербанк онлайн?\n",
      "ОТВЕТ:  в нашем банке реализована возможность оформления вкладов в системе сбербанк онлайн и устройствах самообслуживания. процентная ставка по таким вкладам выше, чем по вкладам, оформленным в отделении банка. подробнее с условиями открытия вкладов вы можете ознакомиться на сайте банка - http://sberbank.ru/ru/person/contributions/contrib_online/.\n",
      "ВЕРОЯТНОСТЬ: 0.4811252243246881\n",
      "НОМЕР ВОПРОСА В МАССИВЕ: 3528\n",
      "\n",
      "ВОПРОС: , как открыть вклад через сбербанк онлайн?\n",
      "ОТВЕТ:  возможность открыть вклад в сбербанк онлайн есть только у клиентов, заключивших универсальный договор банковского обслуживания. подробная инструкция по открытию вкладов онлайн размещена на нашем сайте: http://www.sberbank.ru/common/img/uploaded/vkladi_sbol.pdf.\n",
      "ВЕРОЯТНОСТЬ: 0.4811252243246881\n",
      "НОМЕР ВОПРОСА В МАССИВЕ: 1707\n",
      "\n",
      "ВОПРОС: по вкладам «пополняй» и «управляй» действует ограничение на максимальную сумму вклада, которая равна первоначальному взносу, увеличенному в 10 раз.. на разницу между фактической и максимальной суммой проценты будут рассчитаны по ставке вклада, умноженной на 1/2. я открыла счет \"пополняй \" год назад в \"сбербанк онлайн\". мой первоначальный взнос равнялся 1000 руб., и каждый месяц я пополняла счёт на 1000 руб. когда на счету стало 11000 руб., было предупреждение о превышении максимального остатка на счёте. это как понимать, что больше 10000 руб. (в данном случае) на счету нельзя хранить? я открыла счет на срок до 3 лет, с возможной пролонгацией и дальнейшим пополнением счёта. может быть, есть какой- нибудь другой вклад без ограничения на максимальный остаток вклада?\n",
      "ОТВЕТ:   для возврата средств рекомендуем направить письмо по адресу электронной почты help@sberbank.ru. в нем, пожалуйста, подробно опишите ситуацию, скопируйте переписку с компанией aliexpress об отмене транзакции и о возврате средств на карту, укажите ваши фио, контактный номер телефона, первые 6 цифр и последние 4 цифры номера карты, серию и номер паспорта, реквизиты совершенной операции. срок возврата средств по картам maestro составляет 8 дней.  если вы уже направляли переписку по указанному адресу, рекомендуем обратиться в контактный центр банка по бесплатному номеру 8-800-555-555-0 для анализа операций. при необходимости специалист банка оформит обращение в режиме диалога\n",
      "ВЕРОЯТНОСТЬ: 0.9123312478220621\n",
      "НОМЕР ВОПРОСА В МАССИВЕ: 4247\n",
      "\n"
     ]
    }
   ],
   "source": [
    "#найти и показать 5 ближайших вопросов через темы модели\n",
    "top5MinDist,top5MinDistIdx = lf.get_5_nearest_Q_and_A_via_lda_probs([i[curQuestionTopicNum] for i in ldaOutput], isDebug)\n",
    "\n",
    "lf.calculate_summary_stats_for_method(curQuestionVectorized, matrixDoc2words[top5MinDistIdx])\n",
    "print('\\n' + '--==Ближайшие пять вопросов среди всех вопросов (через темы модели)==--')\n",
    "lf.show_5_nearest_Q_A_prob(questionsOriginal, answersOriginal, top5MinDist, top5MinDistIdx, isDebug)\n",
    "\n",
    "#найти 5 ближайших вопросов через косинус\n",
    "top5MinDist,top5MinDistIdx = lf.get_5_nearest_Q_and_A_via_cos(curQuestionVectorized, matrixDoc2words, isDebug)\n",
    "\n",
    "lf.calculate_summary_stats_for_method(curQuestionVectorized, matrixDoc2words[top5MinDistIdx])\n",
    "print('\\n' + '--==Ближайшие пять вопросов среди всех вопросов (через близость вектора слов)==--')\n",
    "lf.show_5_nearest_Q_A_prob(questionsOriginal, answersOriginal, top5MinDist, top5MinDistIdx)\n",
    "\n",
    "# по входному вектору найти через cos наиболее 5 близких вопросов + ответов + вероятность ВНУТРИ КЛАСТЕРА\n",
    "#ближайший кластер curQuestionTopicNum\n",
    "question2currentThemeIdx=np.where(question2themesVector==curQuestionTopicNum)\n",
    "matrixDoc2wordsCurrentTheme=matrixDoc2words[question2currentThemeIdx]\n",
    "\n",
    "top5MinDist,top5MinDistIdx = lf.get_5_nearest_Q_and_A_via_cos(curQuestionVectorized, matrixDoc2wordsCurrentTheme, isDebug)\n",
    "\n",
    "lf.calculate_summary_stats_for_method(curQuestionVectorized, matrixDoc2wordsCurrentTheme[top5MinDistIdx])\n",
    "print('\\n' + '--==Ближайшие пять вопросов среди всех вопросов в этом кластере (через близость вектора слов)==--')\n",
    "lf.show_5_nearest_Q_A_prob(questionsOriginal[question2currentThemeIdx], answersOriginal[question2currentThemeIdx],\n",
    "                        top5MinDist, top5MinDistIdx, isDebug=isDebug)"
   ]
  },
  {
   "cell_type": "code",
   "execution_count": null,
   "metadata": {
    "ExecuteTime": {
     "end_time": "2018-06-20T06:42:54.580140Z",
     "start_time": "2018-06-20T06:42:54.355987Z"
    },
    "code_folding": []
   },
   "outputs": [],
   "source": []
  }
 ],
 "metadata": {
  "kernelspec": {
   "display_name": "Python 3",
   "language": "python",
   "name": "python3"
  },
  "language_info": {
   "codemirror_mode": {
    "name": "ipython",
    "version": 3
   },
   "file_extension": ".py",
   "mimetype": "text/x-python",
   "name": "python",
   "nbconvert_exporter": "python",
   "pygments_lexer": "ipython3",
   "version": "3.6.4"
  }
 },
 "nbformat": 4,
 "nbformat_minor": 2
}
